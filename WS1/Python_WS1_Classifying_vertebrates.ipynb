{
 "cells": [
  {
   "cell_type": "markdown",
   "metadata": {},
   "source": [
    "# SCI1022 Python workshop 1"
   ]
  },
  {
   "cell_type": "markdown",
   "metadata": {},
   "source": [
    "Welcome to the python stream! \n",
    "\n",
    "Use your two hours in this workshop to work through this notebook. \n",
    "\n",
    "Read the instructions as you go. Execute the example code cells (shift-Enter), and look at the output. \n",
    "\n",
    "**Questions** are marked with bold headings. Usually you answer questions by writing code to perform a particular task.\n",
    "\n",
    "Ask your instructor or teaching associates (TA) for help at any time."
   ]
  },
  {
   "cell_type": "markdown",
   "metadata": {},
   "source": [
    "## Warmup exercise: Introducing yourself to Python"
   ]
  },
  {
   "cell_type": "markdown",
   "metadata": {},
   "source": [
    "Read the code cell below. Before you execute it, predict what it does. \n",
    "\n",
    "Then execute the cell by clicking on the code and typing shift-Enter. \n",
    "\n",
    "Respond to the prompts and see what happens. Was it what you predicted?"
   ]
  },
  {
   "cell_type": "code",
   "execution_count": null,
   "metadata": {},
   "outputs": [],
   "source": [
    "name  = input(\"What is your name?\")\n",
    "place = input(\"Where do you live?\")\n",
    "print(name + \" lives in \" + place)"
   ]
  },
  {
   "cell_type": "markdown",
   "metadata": {},
   "source": [
    "### **Question 1:** A livelier response "
   ]
  },
  {
   "cell_type": "markdown",
   "metadata": {},
   "source": [
    "Now it's your turn. There is an empty code cell below. Copy and paste the code above into the cell, and modify it to print:\n",
    "\n",
    "*Hey Python, I'd like you to meet Lincoln. Lincoln lives in Melbourne, and wants to meet other Melbourne people interested in python.*\n",
    "\n",
    "... except with the inputted name and place, of course. Or invent your own sentence along these lines."
   ]
  },
  {
   "cell_type": "code",
   "execution_count": 12,
   "metadata": {},
   "outputs": [],
   "source": [
    "# Your code here"
   ]
  },
  {
   "cell_type": "markdown",
   "metadata": {},
   "source": [
    "## Classifying vertebrates"
   ]
  },
  {
   "cell_type": "markdown",
   "metadata": {},
   "source": [
    "In the rest of this notebook you'll build up code that classifies vertebrates: animals with a backbone.\n",
    "\n",
    "Your goal is a short program which asks the user questions, such as \"Does your species lay eggs?\", and after it has asked enough questions, lets you know the taxonomic \"class\" of animal (mammal, bird, reptile etc).\n",
    "\n",
    "Don't worry, you don't need to remember (or have ever done) VCE Biology! All the biology you need is in the notebook."
   ]
  },
  {
   "cell_type": "markdown",
   "metadata": {},
   "source": [
    "### Characteristics of vertebrates"
   ]
  },
  {
   "cell_type": "markdown",
   "metadata": {},
   "source": [
    "Here are some characteristics of vertebrates: four attributes that can be used to distinguish the five classes. (Actually biologists will probably insist there are several classes of what most of us would call fish. We'll just call them fish.)\n",
    "\n",
    "Without writing any code, plan out a series of questions with yes/no answers, that will let you decide on the animal's class. \n",
    "\n",
    "Try your questions out on your workshop partner. They are probably a mammal. But ask them to pretend to be something else too."
   ]
  },
  {
   "cell_type": "markdown",
   "metadata": {},
   "source": [
    "|          | Mammals | Birds | Reptiles | Amphibians | Fish  | \n",
    "|----------|---------|-------|----------|------------|-------|\n",
    "| _Blood_    | Warm    | Warm  | Cold     | Cold       | Cold  |\n",
    "| _Birth_    | Land    | Land  | Land     | Water      | Water |\n",
    "| _Feathers_ | No      | Yes   | No       | No         | No    |\n",
    "| _Scales_   | No      | No    | Yes      | No         | Yes   |\n"
   ]
  },
  {
   "cell_type": "markdown",
   "metadata": {},
   "source": [
    "### **Question 2:** A yes/no classifier for vertebrates"
   ]
  },
  {
   "cell_type": "markdown",
   "metadata": {},
   "source": [
    "Write code that implements a vertebrate classifier based on the table above.\n",
    "\n",
    "Your code should ask only y/n questions.\n",
    "\n",
    "It should output a single line such as `It is a bird.`,\n",
    "once it has asked enough questions to be sure it is, in fact, a bird.\n",
    "\n",
    "Use the question plan you devised on paper. You will likely need `if`-statements inside other `if`-statements. Remember to indent your code correctly with the Tab key.\n",
    "\n",
    "Test your code for all cases."
   ]
  },
  {
   "cell_type": "code",
   "execution_count": null,
   "metadata": {},
   "outputs": [],
   "source": [
    "# Your verterbrate classification code here"
   ]
  },
  {
   "cell_type": "markdown",
   "metadata": {},
   "source": [
    "### Refactoring the output phrase\n",
    "\n",
    "*Refactoring* means revising working code, making a small change to make the code simpler, or more flexible, but without changing (yet) what the code actually does.\n",
    "\n",
    "Your solution probably has several statements which start with `print(\"It's a ...`.\n",
    "\n",
    "What if your boss asked you to make your code reply with `Your species is in the bird class`, instead? This is a wordier way of giving the answer, but there's no accounting for taste. \n",
    "\n",
    "Paste your code into the cell below, and change it so that it ends with the line\n",
    "\n",
    "`print(\"Your species is in the \" + cls + \" class.\")`.\n",
    "\n",
    "Then change the rest of the code so that it functions the same as your solution above. \n",
    "(Note that you need to use the variable name `cls` and not `class`, as 'class' is a python *keyword*. It has a special meaning to python and can't be used as a variable name)."
   ]
  },
  {
   "cell_type": "code",
   "execution_count": null,
   "metadata": {},
   "outputs": [],
   "source": [
    "# Your code here"
   ]
  },
  {
   "cell_type": "markdown",
   "metadata": {},
   "source": [
    "## Reusing code with functions\n",
    "\n",
    "Your code should be looking pretty good. But there is still some repetition.\n",
    "\n",
    "Rather than using code of the form `input(\"Does it have ...\") == 'y'` at each point, let's define a function.\n",
    "\n",
    "Evaluate the cell below, and then make a new cell to test the function.\n",
    "\n",
    "But first, predict what the function will do, and what it will return."
   ]
  },
  {
   "cell_type": "code",
   "execution_count": 20,
   "metadata": {},
   "outputs": [],
   "source": [
    "def ask(question):\n",
    "    response = input(question)\n",
    "    return response == 'y'"
   ]
  },
  {
   "cell_type": "markdown",
   "metadata": {},
   "source": [
    "Now refactor your classifier code again so that is uses our new `ask(...)` function.\n",
    "\n",
    "Remember that when refactoring, the code should be working before you start, and doing the same thing when you finish! Check!"
   ]
  },
  {
   "cell_type": "code",
   "execution_count": 1,
   "metadata": {},
   "outputs": [],
   "source": [
    "# Your code here"
   ]
  },
  {
   "cell_type": "markdown",
   "metadata": {},
   "source": [
    "### Defensive programming: robust interpretation of yes/no response\n",
    "\n",
    "Our code is not robust. Responding *yes*, or *sure*, or *defintely* is interpreted as \"no\".\n",
    "\n",
    "Even responding 'Y' is interpreted as \"no\" - try it. This is no good!\n",
    "\n",
    "Write a new `ask` function that accepts \"y\" or \"yes\" or \"Y\" or \"Yes\" as affirmative, and everything else as negative.`"
   ]
  },
  {
   "cell_type": "code",
   "execution_count": 29,
   "metadata": {},
   "outputs": [],
   "source": [
    "def ask(question):\n",
    "   # Your new ask function here"
   ]
  },
  {
   "cell_type": "markdown",
   "metadata": {},
   "source": [
    "This is the end of the first notebook. Well done for getting this far! \n",
    "\n",
    "If you have time left over, or in your own time, consider working on the extension below."
   ]
  },
  {
   "cell_type": "markdown",
   "metadata": {},
   "source": [
    "### Extension: Truly robust interrogation\n",
    "\n",
    "This is better, but we can do better again. \n",
    "\n",
    "If you asked a friend an important question, and didn't understand their reply, you might well keep asking them until you got a clear answer. \n",
    "\n",
    "A really robust `ask` function would keep asking, until it got an answer it undersood - either a clear yes, or a clear no. \n",
    "\n",
    "Redefine the `ask` function to keep asking until it gets an answer which is clearly a yes or a no. When given an answer it doesn't understand, your function should tell the user that it doesn't understand and provide advice, and then ask again.\n",
    "\n",
    "*Hint:* Use a `while True:` loop, and use the fact that the `return` statement leaves a function immediately, whether in a loop or not. \n",
    "\n",
    "*Hint hint:* You may find useful the `in` operator, for example the expression `response in ['y', 'yes', 'yep', 'sure']`.\n",
    "\n",
    "*Hint hint hint:* To convert a string `response` to lowercase, try `response.lower()`."
   ]
  },
  {
   "cell_type": "markdown",
   "metadata": {},
   "source": [
    "# Learning outcomes\n",
    "\n",
    "In this workshop you built a small *expert system*, which embeds domain knowledge from biology, and is able to classify vertebrates by asking a user questions with yes/no answers.\n",
    "\n",
    "Expert systems were one of the earliest examples of successful artificial intelligence.\n",
    "\n",
    "The coding skills you have learnt include:\n",
    "* Prompting the user for input and storing input in a variable.\n",
    "* Using conditionals (`if-elif-else`) to branch program flow, based on user input.\n",
    "* Nesting conditionals to express complex logical relationships and implement a decision tree.\n",
    "* Refactoring code: removing repetitive elements of output formatting.\n",
    "* Defining a function to remove repetitive code: prompting for a response and processing the answer.\n",
    "* Boolean expressions for multiple comparisons.\n",
    "\n",
    "And in the extension:\n",
    "* Extending a function, without changing the code that calls it.\n",
    "* Iteration with an infinite loop, exited by `return`.\n",
    "* Set or list memebership with the `in` operator."
   ]
  }
 ],
 "metadata": {
  "kernelspec": {
   "display_name": "Python 3",
   "language": "python",
   "name": "python3"
  },
  "language_info": {
   "codemirror_mode": {
    "name": "ipython",
    "version": 3
   },
   "file_extension": ".py",
   "mimetype": "text/x-python",
   "name": "python",
   "nbconvert_exporter": "python",
   "pygments_lexer": "ipython3",
   "version": "3.7.4"
  }
 },
 "nbformat": 4,
 "nbformat_minor": 4
}
