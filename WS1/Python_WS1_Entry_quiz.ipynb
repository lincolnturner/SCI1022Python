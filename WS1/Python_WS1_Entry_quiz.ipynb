{
 "cells": [
  {
   "cell_type": "markdown",
   "metadata": {},
   "source": [
    "# SCI1022 Python workshop 1 - Entry quiz"
   ]
  },
  {
   "cell_type": "markdown",
   "metadata": {},
   "source": [
    "## Classifying vertebrates"
   ]
  },
  {
   "cell_type": "markdown",
   "metadata": {},
   "source": [
    "### Making decisions based on input"
   ]
  },
  {
   "cell_type": "markdown",
   "metadata": {},
   "source": [
    "In the pre-workshop videos, you saw how to:\n",
    "* Prompt the user for input and assign their response to a variable,\n",
    "* Use the equal-to operator \"==\" to test if two expressions are the same, \n",
    "* Use if-statements to branch the flow of code,\n",
    "* Output text with the `print` function.\n",
    "\n",
    "Using these skills, write code which:\n",
    "1. Asks the user \"Is it furry?\"  \n",
    "1. If the user answers 'y', prints \"It's a mammal.\" \n",
    "1. If the user answers something else, prints \"Maybe a fish or a bird?\".\n",
    "\n",
    "This will be your first attempt at a vertebrate classifier. It's not going to impress any biologist, but we have to start somewhere.\n",
    "\n",
    "Your code should take 4-5 lines."
   ]
  },
  {
   "cell_type": "code",
   "execution_count": null,
   "metadata": {},
   "outputs": [],
   "source": [
    "# Your code goes here"
   ]
  },
  {
   "cell_type": "markdown",
   "metadata": {},
   "source": [
    "What does this code do if you reply 'yes', rather than 'y'? You'll fix this later."
   ]
  }
 ],
 "metadata": {
  "kernelspec": {
   "display_name": "Python 3",
   "language": "python",
   "name": "python3"
  },
  "language_info": {
   "codemirror_mode": {
    "name": "ipython",
    "version": 3
   },
   "file_extension": ".py",
   "mimetype": "text/x-python",
   "name": "python",
   "nbconvert_exporter": "python",
   "pygments_lexer": "ipython3",
   "version": "3.7.4"
  }
 },
 "nbformat": 4,
 "nbformat_minor": 4
}
